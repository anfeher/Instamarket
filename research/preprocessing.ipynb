{
 "cells": [
  {
   "cell_type": "markdown",
   "metadata": {},
   "source": [
    "## Data Pre-Processing and Feature Engineering"
   ]
  },
  {
   "cell_type": "markdown",
   "metadata": {},
   "source": [
    "From the EDA some information related to the nature of the data was gather, such as:\n",
    "\n",
    "- The presence of missing values in the actual times.  \n",
    "actual_start_time_picking: 23378  \n",
    "actual_end_time_picking: 37408\n",
    "\n",
    "- No duplicates where found.\n",
    "\n",
    "- There are extreme values (outliers) that could significantly skew the analysis."
   ]
  },
  {
   "cell_type": "markdown",
   "metadata": {},
   "source": [
    "## 1. Import Data and Required Packages"
   ]
  },
  {
   "cell_type": "code",
   "execution_count": 1,
   "metadata": {},
   "outputs": [],
   "source": [
    "import numpy as np\n",
    "import pandas as pd\n",
    "import seaborn as sb\n",
    "import matplotlib.pyplot as plt\n",
    "%matplotlib inline\n",
    "import warnings\n",
    "warnings.filterwarnings('ignore')"
   ]
  },
  {
   "cell_type": "code",
   "execution_count": 2,
   "metadata": {},
   "outputs": [
    {
     "data": {
      "text/plain": [
       "'c:\\\\Users\\\\anfe1\\\\OneDrive\\\\Escritorio\\\\Instaleap\\\\Instamarket'"
      ]
     },
     "execution_count": 2,
     "metadata": {},
     "output_type": "execute_result"
    }
   ],
   "source": [
    "import os\n",
    "\n",
    "os.chdir(\"../\")\n",
    "%pwd"
   ]
  },
  {
   "cell_type": "markdown",
   "metadata": {},
   "source": [
    "#### Import the CSV Data as Pandas DataFrame"
   ]
  },
  {
   "cell_type": "code",
   "execution_count": 3,
   "metadata": {},
   "outputs": [],
   "source": [
    "df = pd.read_csv('artifacts/data.csv')\n",
    "\n",
    "# Converting time_picking's to datetime DType\n",
    "datetime_cols = [\"actual_start_time_picking\",\n",
    "                 \"actual_end_time_picking\",\n",
    "                 \"optimal_start_time_picking\",\n",
    "                 \"optimal_end_time_picking\"]\n",
    "df[datetime_cols] = df[datetime_cols].apply(pd.to_datetime, format=\"mixed\")\n"
   ]
  },
  {
   "cell_type": "markdown",
   "metadata": {},
   "source": [
    "As the \"job_id\" column is just a label for the order could be dropped as it does not give any additonal information"
   ]
  },
  {
   "cell_type": "code",
   "execution_count": 4,
   "metadata": {},
   "outputs": [],
   "source": [
    "df.drop(columns=\"job_id\", axis=1, inplace=True)"
   ]
  },
  {
   "cell_type": "markdown",
   "metadata": {},
   "source": [
    "## 2. Actions to perform\n",
    "\n",
    "- Handling missing values\n",
    "- Handling outliers"
   ]
  },
  {
   "cell_type": "markdown",
   "metadata": {},
   "source": [
    "### 2.1 Handling Missing values"
   ]
  },
  {
   "cell_type": "code",
   "execution_count": 5,
   "metadata": {},
   "outputs": [
    {
     "data": {
      "text/plain": [
       "store_id                          0\n",
       "actual_start_time_picking     23378\n",
       "actual_end_time_picking       37408\n",
       "optimal_start_time_picking        0\n",
       "optimal_end_time_picking          0\n",
       "dtype: int64"
      ]
     },
     "execution_count": 5,
     "metadata": {},
     "output_type": "execute_result"
    }
   ],
   "source": [
    "df.isna().sum()"
   ]
  },
  {
   "cell_type": "code",
   "execution_count": 6,
   "metadata": {},
   "outputs": [
    {
     "name": "stdout",
     "output_type": "stream",
     "text": [
      "6.933964502657555\n",
      "11.095292331055429\n"
     ]
    }
   ],
   "source": [
    "print(df[\"actual_start_time_picking\"].isna().sum()/df.shape[0]*100)\n",
    "print(df[\"actual_end_time_picking\"].isna().sum()/df.shape[0]*100)\n",
    "\n",
    "# print(df[~df[\"actual_start_time_picking\"].isna() & df[\"actual_end_time_picking\"].isna()].shape[0]/df.shape[0]*100)"
   ]
  },
  {
   "cell_type": "markdown",
   "metadata": {},
   "source": [
    "At first I will remove the rows with missing values assuming there where cancelled orders."
   ]
  },
  {
   "cell_type": "code",
   "execution_count": 7,
   "metadata": {},
   "outputs": [
    {
     "name": "stdout",
     "output_type": "stream",
     "text": [
      "<class 'pandas.core.frame.DataFrame'>\n",
      "RangeIndex: 299744 entries, 0 to 299743\n",
      "Data columns (total 5 columns):\n",
      " #   Column                      Non-Null Count   Dtype              \n",
      "---  ------                      --------------   -----              \n",
      " 0   store_id                    299744 non-null  object             \n",
      " 1   actual_start_time_picking   299744 non-null  datetime64[ns, UTC]\n",
      " 2   actual_end_time_picking     299744 non-null  datetime64[ns, UTC]\n",
      " 3   optimal_start_time_picking  299744 non-null  datetime64[ns, UTC]\n",
      " 4   optimal_end_time_picking    299744 non-null  datetime64[ns, UTC]\n",
      "dtypes: datetime64[ns, UTC](4), object(1)\n",
      "memory usage: 11.4+ MB\n"
     ]
    }
   ],
   "source": [
    "df.dropna(subset=['actual_start_time_picking', 'actual_end_time_picking'], inplace=True)\n",
    "df.reset_index(drop=True, inplace=True)\n",
    "df.info()"
   ]
  },
  {
   "cell_type": "markdown",
   "metadata": {},
   "source": [
    "So, there reamins 299744 rows to work with. It's still very good amount of data representing the 88.9% of the original data."
   ]
  },
  {
   "cell_type": "markdown",
   "metadata": {},
   "source": [
    "### 2.2 Adding columns for analysis \n",
    "\n",
    "Time analysis columns\n",
    "- actual_total_time\n",
    "- optimal_total_time\n",
    "\n",
    "Efficiency analysis columns\n",
    "- start_delay\n",
    "- end_delay\n",
    "- PTP (Picking Time Percentage)"
   ]
  },
  {
   "cell_type": "code",
   "execution_count": 8,
   "metadata": {},
   "outputs": [
    {
     "data": {
      "text/plain": [
       "store_id                      299744\n",
       "actual_start_time_picking     299744\n",
       "actual_end_time_picking       299744\n",
       "optimal_start_time_picking    299744\n",
       "optimal_end_time_picking      299744\n",
       "actual_total_time             299744\n",
       "optimal_total_time            299744\n",
       "diff_actual_optimal_time      299744\n",
       "start_delay                   299744\n",
       "end_delay                     299744\n",
       "PTP                           299744\n",
       "dtype: int64"
      ]
     },
     "execution_count": 8,
     "metadata": {},
     "output_type": "execute_result"
    }
   ],
   "source": [
    "time_analysis_cols = [\"actual_total_time\",\n",
    "                      \"optimal_total_time\",\n",
    "                      \"diff_actual_optimal_time\"]\n",
    "\n",
    "efficiency_cols = [\"start_delay\",\n",
    "                   \"end_delay\",\n",
    "                   \"PTP\"]\n",
    "\n",
    "df[\"actual_total_time\"] = (df[\"actual_end_time_picking\"] - df[\"actual_start_time_picking\"]).dt.total_seconds() / 60.0\n",
    "df[\"optimal_total_time\"] = (df[\"optimal_end_time_picking\"] - df[\"optimal_start_time_picking\"]).dt.total_seconds() / 60.0\n",
    "df[\"diff_actual_optimal_time\"] = df[\"actual_total_time\"] - df[\"optimal_total_time\"]\n",
    "\n",
    "df[\"start_delay\"] = (df[\"actual_start_time_picking\"] - df[\"optimal_start_time_picking\"]).dt.total_seconds() / 60.0\n",
    "df[\"end_delay\"] = (df[\"actual_end_time_picking\"] - df[\"optimal_end_time_picking\"]).dt.total_seconds() / 60.0\n",
    "\n",
    "df[\"PTP\"] = df[\"actual_total_time\"]/df[\"optimal_total_time\"]\n",
    "\n",
    "df.count()"
   ]
  },
  {
   "cell_type": "markdown",
   "metadata": {},
   "source": [
    "### 2.3 Handling Outliers"
   ]
  },
  {
   "cell_type": "markdown",
   "metadata": {},
   "source": [
    "From the EDA it was seen some extreme values that could significantly skew the results.  \n",
    "Z-score will be used. Scores beyond the threshold (-3,3) will be identified as outliers.  \n",
    "  \n",
    "On first intance the outliers will be removed."
   ]
  },
  {
   "cell_type": "code",
   "execution_count": 9,
   "metadata": {},
   "outputs": [],
   "source": [
    "cols_to_normalize = [*time_analysis_cols,*efficiency_cols]\n",
    "\n",
    "for col in cols_to_normalize:\n",
    "    col_zscore = col + '_zscore'\n",
    "    df[col_zscore] = (df[col] - df[col].mean())/df[col].std(ddof=0)"
   ]
  },
  {
   "cell_type": "code",
   "execution_count": 10,
   "metadata": {},
   "outputs": [],
   "source": [
    "# zcore_cols  =  [col+ '_zscore' for col in [\"actual_total_time\",\"diff_actual_optimal_time\",*efficiency_cols]]\n",
    "zcore_cols  =  [col+ '_zscore' for col in cols_to_normalize]\n",
    "filters = [(df[col]>-3) & (df[col]<3) for col in zcore_cols]\n",
    "\n",
    "df_clean = df[np.logical_and.reduce(filters)]"
   ]
  },
  {
   "cell_type": "code",
   "execution_count": 11,
   "metadata": {},
   "outputs": [
    {
     "data": {
      "text/plain": [
       "store_id                              740\n",
       "actual_start_time_picking          236020\n",
       "actual_end_time_picking            288638\n",
       "optimal_start_time_picking          11912\n",
       "optimal_end_time_picking            11731\n",
       "actual_total_time                  279599\n",
       "optimal_total_time                     98\n",
       "diff_actual_optimal_time           284122\n",
       "start_delay                        219161\n",
       "end_delay                          283379\n",
       "PTP                                286024\n",
       "actual_total_time_zscore           279599\n",
       "optimal_total_time_zscore              98\n",
       "diff_actual_optimal_time_zscore    282082\n",
       "start_delay_zscore                 219161\n",
       "end_delay_zscore                   283379\n",
       "PTP_zscore                         285457\n",
       "dtype: int64"
      ]
     },
     "execution_count": 11,
     "metadata": {},
     "output_type": "execute_result"
    }
   ],
   "source": [
    "df_clean.nunique()"
   ]
  },
  {
   "cell_type": "code",
   "execution_count": 12,
   "metadata": {},
   "outputs": [],
   "source": [
    "df_clean.drop(columns=[\"actual_total_time\",\"diff_actual_optimal_time\",\"PTP\",*zcore_cols], inplace=True)"
   ]
  },
  {
   "cell_type": "code",
   "execution_count": 13,
   "metadata": {},
   "outputs": [
    {
     "name": "stdout",
     "output_type": "stream",
     "text": [
      "<class 'pandas.core.frame.DataFrame'>\n",
      "Index: 288715 entries, 0 to 299743\n",
      "Data columns (total 8 columns):\n",
      " #   Column                      Non-Null Count   Dtype              \n",
      "---  ------                      --------------   -----              \n",
      " 0   store_id                    288715 non-null  object             \n",
      " 1   actual_start_time_picking   288715 non-null  datetime64[ns, UTC]\n",
      " 2   actual_end_time_picking     288715 non-null  datetime64[ns, UTC]\n",
      " 3   optimal_start_time_picking  288715 non-null  datetime64[ns, UTC]\n",
      " 4   optimal_end_time_picking    288715 non-null  datetime64[ns, UTC]\n",
      " 5   optimal_total_time          288715 non-null  float64            \n",
      " 6   start_delay                 288715 non-null  float64            \n",
      " 7   end_delay                   288715 non-null  float64            \n",
      "dtypes: datetime64[ns, UTC](4), float64(3), object(1)\n",
      "memory usage: 19.8+ MB\n"
     ]
    }
   ],
   "source": [
    "df_clean.info()"
   ]
  },
  {
   "cell_type": "code",
   "execution_count": 15,
   "metadata": {},
   "outputs": [],
   "source": [
    "# df_clean.to_csv(\"artifacts/data_clean.csv\", index=False, header=True)"
   ]
  },
  {
   "cell_type": "markdown",
   "metadata": {},
   "source": [
    "## 3. Visualizing pre-process data"
   ]
  },
  {
   "cell_type": "code",
   "execution_count": null,
   "metadata": {},
   "outputs": [
    {
     "data": {
      "text/plain": [
       "<Axes: xlabel='diff_actual_optimal_time', ylabel='Count'>"
      ]
     },
     "execution_count": 68,
     "metadata": {},
     "output_type": "execute_result"
    },
    {
     "data": {
      "image/png": "[encoded data removed]",
      "text/plain": [
       "<Figure size 640x480 with 1 Axes>"
      ]
     },
     "metadata": {},
     "output_type": "display_data"
    }
   ],
   "source": [
    "sb.histplot(data=df_clean,x='diff_actual_optimal_time', bins=100)"
   ]
  },
  {
   "cell_type": "code",
   "execution_count": null,
   "metadata": {},
   "outputs": [
    {
     "data": {
      "image/png": "[encoded data removed]",
      "text/plain": [
       "<Figure size 1500x700 with 2 Axes>"
      ]
     },
     "metadata": {},
     "output_type": "display_data"
    }
   ],
   "source": [
    "fig, axs = plt.subplots(1, 2, figsize=(15, 7))\n",
    "plt.subplot(121)\n",
    "sb.histplot(data=df_clean,x='start_delay', bins=100)\n",
    "plt.subplot(122)\n",
    "sb.histplot(data=df_clean,x='end_delay', bins=100)\n",
    "fig.suptitle(\"Delays\", fontsize=20)\n",
    "plt.show()"
   ]
  }
 ],
 "metadata": {
  "kernelspec": {
   "display_name": "venv",
   "language": "python",
   "name": "python3"
  },
  "language_info": {
   "codemirror_mode": {
    "name": "ipython",
    "version": 3
   },
   "file_extension": ".py",
   "mimetype": "text/x-python",
   "name": "python",
   "nbconvert_exporter": "python",
   "pygments_lexer": "ipython3",
   "version": "3.12.1"
  }
 },
 "nbformat": 4,
 "nbformat_minor": 2
}
