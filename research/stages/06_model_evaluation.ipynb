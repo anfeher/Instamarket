{
 "cells": [
  {
   "cell_type": "code",
   "execution_count": 1,
   "metadata": {},
   "outputs": [
    {
     "data": {
      "text/plain": [
       "'c:\\\\Users\\\\anfe1\\\\OneDrive\\\\Escritorio\\\\Instaleap\\\\Instamarket'"
      ]
     },
     "execution_count": 1,
     "metadata": {},
     "output_type": "execute_result"
    }
   ],
   "source": [
    "import os\n",
    "\n",
    "os.chdir(\"../../\")\n",
    "%pwd"
   ]
  },
  {
   "cell_type": "code",
   "execution_count": 2,
   "metadata": {},
   "outputs": [],
   "source": [
    "from dataclasses import dataclass\n",
    "from pathlib import Path\n",
    "\n",
    "@dataclass(frozen=True)\n",
    "class ModelEvaluationConfig:\n",
    "    root_dir: Path\n",
    "    data_path: Path\n",
    "    model_path: Path\n",
    "    metrics_file_name: Path"
   ]
  },
  {
   "cell_type": "code",
   "execution_count": 3,
   "metadata": {},
   "outputs": [],
   "source": [
    "from instamarket.constants import CONFIG_FILE_PATH\n",
    "from instamarket.utils.common import read_yaml, create_directories\n",
    "\n",
    "class ConfigurationManager:\n",
    "    def __init__(self) -> None:\n",
    "        config_file_path = CONFIG_FILE_PATH\n",
    "\n",
    "        self.config = read_yaml(config_file_path)\n",
    "\n",
    "        create_directories([self.config.artifacts_root])\n",
    "    \n",
    "    def get_model_evaluation_config(self) -> ModelEvaluationConfig:\n",
    "        config = self.config.model_evaluation\n",
    "\n",
    "        create_directories([config.root_dir])\n",
    "\n",
    "        model_evaluation_config = ModelEvaluationConfig(\n",
    "            root_dir= config.root_dir,\n",
    "            data_path= config.data_path,\n",
    "            model_path= config.model_path,\n",
    "            metrics_file_name= config.metrics_file_name\n",
    "        )\n",
    "        \n",
    "        return model_evaluation_config"
   ]
  },
  {
   "cell_type": "code",
   "execution_count": 34,
   "metadata": {},
   "outputs": [],
   "source": [
    "import os\n",
    "import numpy as np\n",
    "\n",
    "from sklearn.metrics import mean_squared_error, mean_absolute_error, r2_score\n",
    "\n",
    "from instamarket.utils.common import load_object\n",
    "from instamarket.logging import logger\n",
    "\n",
    "class ModelEvaluation:\n",
    "    def __init__(self, config:ModelEvaluationConfig) -> None:\n",
    "        self.config = config\n",
    "\n",
    "    @staticmethod\n",
    "    def eval_metrics(actual, pred):\n",
    "        rmse = np.sqrt(mean_squared_error(actual, pred))\n",
    "        mae = mean_absolute_error(actual, pred)\n",
    "        r2 = r2_score(actual, pred)\n",
    "        return rmse, mae, r2\n",
    "\n",
    "    def evaluate(self):\n",
    "        logger.info(\"Loading test data\")\n",
    "        test_arr = load_object(os.path.join(self.config.data_path,\"test.pkl\"))\n",
    "\n",
    "        logger.info(\"Split data in Independent & dependent variable\")\n",
    "        X_test,y_test = (test_arr.tocsc()[:,:-2], test_arr.tocsc()[:,-2:])\n",
    "\n",
    "        logger.info(\"Loading model\")\n",
    "        model = load_object(self.config.model_path)\n",
    "\n",
    "        logger.info(\"Start model evaluation\")\n",
    "        preds = model.predict(X_test)\n",
    "        \n",
    "        start_metrics = self.eval_metrics(y_test.toarray()[:, 0], preds[:, 0])\n",
    "        logger.info(\"start_delay\")\n",
    "        logger.info(f\"rmse: {start_metrics[0]}, mae: {start_metrics[0]}, r2: {start_metrics[1]}\")\n",
    "\n",
    "        end_metrics = self.eval_metrics(y_test.toarray()[:, 1], preds[:, 1])\n",
    "        logger.info(\"end_delay\")\n",
    "        logger.info(f\"rmse: {end_metrics[0]}, mae: {end_metrics[0]}, r2: {end_metrics[1]}\")\n",
    "        \n"
   ]
  },
  {
   "cell_type": "code",
   "execution_count": 35,
   "metadata": {},
   "outputs": [
    {
     "name": "stdout",
     "output_type": "stream",
     "text": [
      "[2024-04-20 16:36:03,800] 29 common - INFO - yaml file config\\config.yml loaded successfully\n",
      "[2024-04-20 16:36:03,800] 47 common - INFO - Created directory at: artifacts\n",
      "[2024-04-20 16:36:03,800] 47 common - INFO - Created directory at: artifacts/model_evaluation\n",
      "[2024-04-20 16:36:03,800] 21 1115185333 - INFO - Loading test data\n",
      "[2024-04-20 16:36:03,817] 24 1115185333 - INFO - Split data in Independent & dependent variable\n",
      "[2024-04-20 16:36:03,863] 27 1115185333 - INFO - Loading model\n",
      "[2024-04-20 16:36:03,917] 30 1115185333 - INFO - Start model evaluation\n",
      "[2024-04-20 16:36:04,225] 34 1115185333 - INFO - start_delay\n",
      "[2024-04-20 16:36:04,225] 35 1115185333 - INFO - rmse: 83.75558886366154, mae: 83.75558886366154, r2: 47.141205323252734\n",
      "[2024-04-20 16:36:04,225] 38 1115185333 - INFO - end_delay\n",
      "[2024-04-20 16:36:04,225] 39 1115185333 - INFO - rmse: 84.62899796375187, mae: 84.62899796375187, r2: 48.72403077177631\n"
     ]
    }
   ],
   "source": [
    "try:\n",
    "    config = ConfigurationManager()\n",
    "    model_evaluation_config = config.get_model_evaluation_config()\n",
    "    model_evaluation = ModelEvaluation(config=model_evaluation_config)\n",
    "    model_evaluation.evaluate()\n",
    "except Exception as e:\n",
    "    raise e"
   ]
  }
 ],
 "metadata": {
  "kernelspec": {
   "display_name": "venv",
   "language": "python",
   "name": "python3"
  },
  "language_info": {
   "codemirror_mode": {
    "name": "ipython",
    "version": 3
   },
   "file_extension": ".py",
   "mimetype": "text/x-python",
   "name": "python",
   "nbconvert_exporter": "python",
   "pygments_lexer": "ipython3",
   "version": "3.12.1"
  }
 },
 "nbformat": 4,
 "nbformat_minor": 2
}
