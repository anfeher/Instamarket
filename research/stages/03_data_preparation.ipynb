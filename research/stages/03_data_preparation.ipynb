{
 "cells": [
  {
   "cell_type": "code",
   "execution_count": 1,
   "metadata": {},
   "outputs": [
    {
     "data": {
      "text/plain": [
       "'c:\\\\Users\\\\anfe1\\\\OneDrive\\\\Escritorio\\\\Instaleap\\\\Instamarket'"
      ]
     },
     "execution_count": 1,
     "metadata": {},
     "output_type": "execute_result"
    }
   ],
   "source": [
    "import os\n",
    "\n",
    "os.chdir(\"../../\")\n",
    "%pwd"
   ]
  },
  {
   "cell_type": "code",
   "execution_count": 4,
   "metadata": {},
   "outputs": [],
   "source": [
    "from dataclasses import dataclass\n",
    "from pathlib import Path\n",
    "\n",
    "@dataclass(frozen=True)\n",
    "class DataPreparationConfig:\n",
    "    root_dir: Path\n",
    "    data_path: Path"
   ]
  },
  {
   "cell_type": "code",
   "execution_count": 5,
   "metadata": {},
   "outputs": [],
   "source": [
    "from instamarket.constants import CONFIG_FILE_PATH\n",
    "from instamarket.utils.common import read_yaml, create_directories\n",
    "\n",
    "class ConfigurationManager:\n",
    "    def __init__(self) -> None:\n",
    "        config_file_path = CONFIG_FILE_PATH\n",
    "\n",
    "        self.config = read_yaml(config_file_path)\n",
    "\n",
    "        create_directories([self.config.artifacts_root])\n",
    "    \n",
    "    def get_data_preparation_config(self) -> DataPreparationConfig:\n",
    "        config = self.config.data_preparation\n",
    "\n",
    "        create_directories([config.root_dir])\n",
    "\n",
    "        data_preparation_config = DataPreparationConfig(\n",
    "            root_dir=config.root_dir,\n",
    "            data_path=config.data_path\n",
    "        )\n",
    "\n",
    "        return data_preparation_config"
   ]
  },
  {
   "cell_type": "code",
   "execution_count": 12,
   "metadata": {},
   "outputs": [],
   "source": [
    "import pandas as pd\n",
    "\n",
    "from sklearn.model_selection import train_test_split\n",
    "\n",
    "from instamarket.logging import logger\n",
    "\n",
    "class DataPreparation:\n",
    "    def __init__(self, config:DataPreparationConfig) -> None:\n",
    "        self.config = config\n",
    "\n",
    "    def prepare_data(self) -> pd.DataFrame:\n",
    "        logger.info(\"Read the dataset as dataframe\")\n",
    "        df = pd.read_csv(self.config.data_path)\n",
    "\n",
    "        logger.info(\"Converting picking times to datetime DType\")\n",
    "        datetime_cols = [\"optimal_start_time_picking\",\n",
    "                         \"optimal_end_time_picking\"]\n",
    "        df[datetime_cols] = df[datetime_cols].apply(pd.to_datetime, format=\"mixed\")\n",
    "\n",
    "        df_prepared = df[[\"store_id\",\"optimal_total_time\",\"start_delay\",\"end_delay\"]]\n",
    "\n",
    "        df_prepared['optimal_start_day'] = df['optimal_start_time_picking'].dt.day\n",
    "        df_prepared['optimal_start_hour'] = df['optimal_start_time_picking'].dt.hour\n",
    "        df_prepared['optimal_start_minute'] = df['optimal_start_time_picking'].dt.minute\n",
    "        df_prepared['optimal_start_weekday'] = df['optimal_start_time_picking'].dt.weekday\n",
    "        df_prepared['optimal_start_is_weekend'] = df_prepared['optimal_start_weekday'].isin([5, 6])\n",
    "\n",
    "        df_prepared['optimal_end_day'] = df['optimal_end_time_picking'].dt.day\n",
    "        df_prepared['optimal_end_hour'] = df['optimal_end_time_picking'].dt.hour\n",
    "        df_prepared['optimal_end_minute'] = df['optimal_end_time_picking'].dt.minute\n",
    "        df_prepared['optimal_end_weekday'] = df['optimal_end_time_picking'].dt.weekday\n",
    "        df_prepared['optimal_end_is_weekend'] = df_prepared['optimal_end_weekday'].isin([5, 6])\n",
    "\n",
    "        return df_prepared\n",
    "\n",
    "    def split_data(self):\n",
    "        df = self.prepare_data()\n",
    "\n",
    "        logger.info(\"Train Test split initiated\")\n",
    "        train_set, test_set = train_test_split(df, test_size=0.2, random_state=42)\n",
    "\n",
    "        train_set.to_csv(os.path.join(self.config.root_dir,\"train.csv\"), index=False, header=True)\n",
    "        test_set.to_csv(os.path.join(self.config.root_dir,\"test.csv\"), index=False, header=True)\n",
    "        logger.info(\"Train Test split saved\")"
   ]
  },
  {
   "cell_type": "code",
   "execution_count": 13,
   "metadata": {},
   "outputs": [
    {
     "name": "stdout",
     "output_type": "stream",
     "text": [
      "[2024-04-20 01:44:28,759] 28 common - INFO - yaml file config\\config.yml loaded successfully\n",
      "[2024-04-20 01:44:28,759] 46 common - INFO - Created directory at: artifacts\n",
      "[2024-04-20 01:44:28,759] 46 common - INFO - Created directory at: artifacts/data_preparation\n",
      "[2024-04-20 01:44:28,759] 12 2142308596 - INFO - Read the dataset as dataframe\n",
      "[2024-04-20 01:44:29,292] 15 2142308596 - INFO - Converting picking times to datetime DType\n",
      "[2024-04-20 01:44:29,708] 39 2142308596 - INFO - Train Test split initiated\n"
     ]
    },
    {
     "name": "stderr",
     "output_type": "stream",
     "text": [
      "C:\\Users\\anfe1\\AppData\\Local\\Temp\\ipykernel_20420\\2142308596.py:22: SettingWithCopyWarning: \n",
      "A value is trying to be set on a copy of a slice from a DataFrame.\n",
      "Try using .loc[row_indexer,col_indexer] = value instead\n",
      "\n",
      "See the caveats in the documentation: https://pandas.pydata.org/pandas-docs/stable/user_guide/indexing.html#returning-a-view-versus-a-copy\n",
      "  df_prepared.loc[:, 'optimal_start_day'] = df.loc[:, 'optimal_start_time_picking'].dt.day\n"
     ]
    },
    {
     "name": "stdout",
     "output_type": "stream",
     "text": [
      "[2024-04-20 01:44:32,077] 44 2142308596 - INFO - Train Test split saved\n"
     ]
    }
   ],
   "source": [
    "try:\n",
    "    config = ConfigurationManager()\n",
    "    data_preparation_config = config.get_data_preparation_config()\n",
    "    data_preparation = DataPreparation(config=data_preparation_config)\n",
    "    data_preparation.split_data()\n",
    "except Exception as e:\n",
    "    raise e"
   ]
  }
 ],
 "metadata": {
  "kernelspec": {
   "display_name": "venv",
   "language": "python",
   "name": "python3"
  },
  "language_info": {
   "codemirror_mode": {
    "name": "ipython",
    "version": 3
   },
   "file_extension": ".py",
   "mimetype": "text/x-python",
   "name": "python",
   "nbconvert_exporter": "python",
   "pygments_lexer": "ipython3",
   "version": "3.12.1"
  }
 },
 "nbformat": 4,
 "nbformat_minor": 2
}
