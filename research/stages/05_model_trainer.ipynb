{
 "cells": [
  {
   "cell_type": "code",
   "execution_count": 1,
   "metadata": {},
   "outputs": [
    {
     "data": {
      "text/plain": [
       "'c:\\\\Users\\\\anfe1\\\\OneDrive\\\\Escritorio\\\\Instaleap\\\\Instamarket'"
      ]
     },
     "execution_count": 1,
     "metadata": {},
     "output_type": "execute_result"
    }
   ],
   "source": [
    "import os\n",
    "\n",
    "os.chdir(\"../../\")\n",
    "%pwd"
   ]
  },
  {
   "cell_type": "code",
   "execution_count": 2,
   "metadata": {},
   "outputs": [],
   "source": [
    "from dataclasses import dataclass\n",
    "from pathlib import Path\n",
    "\n",
    "@dataclass(frozen=True)\n",
    "class ModelTrainerConfig:\n",
    "    root_dir: Path\n",
    "    data_path: Path\n",
    "    model: str\n",
    "    hparams: dict"
   ]
  },
  {
   "cell_type": "code",
   "execution_count": 3,
   "metadata": {},
   "outputs": [],
   "source": [
    "from instamarket.constants import CONFIG_FILE_PATH, PARAMS_FILE_PATH\n",
    "from instamarket.utils.common import read_yaml, create_directories\n",
    "\n",
    "class ConfigurationManager:\n",
    "    def __init__(self) -> None:\n",
    "        config_file_path = CONFIG_FILE_PATH\n",
    "        params_file_path = PARAMS_FILE_PATH\n",
    "\n",
    "        self.config = read_yaml(config_file_path)\n",
    "        self.params = read_yaml(params_file_path)\n",
    "\n",
    "        create_directories([self.config.artifacts_root])\n",
    "    \n",
    "    def get_model_trainer_config(self) -> ModelTrainerConfig:\n",
    "        config = self.config.model_trainer\n",
    "        params = self.params.training_arguments\n",
    "\n",
    "        create_directories([config.root_dir])\n",
    "\n",
    "        model_trainer_config = ModelTrainerConfig(\n",
    "            root_dir= config.root_dir,\n",
    "            data_path= config.data_path,\n",
    "            model = params.model,\n",
    "            hparams= params.hparams\n",
    "        )\n",
    "\n",
    "        return model_trainer_config"
   ]
  },
  {
   "cell_type": "code",
   "execution_count": 8,
   "metadata": {},
   "outputs": [],
   "source": [
    "import os\n",
    "\n",
    "from sklearn.linear_model import LinearRegression, Ridge, Lasso\n",
    "from sklearn.neighbors import KNeighborsRegressor\n",
    "from sklearn.tree import DecisionTreeRegressor\n",
    "from sklearn.ensemble import AdaBoostRegressor, GradientBoostingRegressor, RandomForestRegressor\n",
    "from catboost import CatBoostRegressor\n",
    "from xgboost import XGBRegressor\n",
    "from sklearn.multioutput import MultiOutputRegressor\n",
    "\n",
    "from instamarket.utils.common import load_object, save_object\n",
    "from instamarket.logging import logger\n",
    "\n",
    "MODELS = {\n",
    "    \"Linear Regression\": LinearRegression(),\n",
    "    \"Lasso\": Lasso(),\n",
    "    \"Ridge\": Ridge(),\n",
    "    \"K-Neighbors Regressor\": KNeighborsRegressor(),\n",
    "    \"Decision Tree\": DecisionTreeRegressor(),\n",
    "    \"Random Forest Regressor\": RandomForestRegressor(),\n",
    "    \"Gradient Boosting\": GradientBoostingRegressor(),\n",
    "    \"XGBRegressor\": XGBRegressor(), \n",
    "    \"CatBoosting Regressor\": CatBoostRegressor(verbose=False),\n",
    "    \"AdaBoost Regressor\": AdaBoostRegressor()\n",
    "    }\n",
    "\n",
    "class ModelTrainer:\n",
    "    def __init__(self, config:ModelTrainerConfig) -> None:\n",
    "        self.config = config\n",
    "    \n",
    "    def train(self):\n",
    "        logger.info(\"Loading training data\")\n",
    "        train_arr = load_object(os.path.join(self.config.data_path,\"train.pkl\"))\n",
    "\n",
    "        logger.info(\"Split data - Independent & dependent variable\")\n",
    "        X_train,y_train = (train_arr.tocsc()[:,:-2], train_arr.tocsc()[:,-2:])\n",
    "        \n",
    "        logger.info(f\"Model: {self.config.model}\")\n",
    "        model = MODELS[self.config.model]\n",
    "\n",
    "        logger.info(f\"Params: {self.config.hparams}\")\n",
    "        model.set_params(**self.config.hparams)\n",
    "        multi_out_model = MultiOutputRegressor(model)\n",
    "\n",
    "        logger.info(\"Start training model\")\n",
    "        multi_out_model.fit(X_train, y_train.toarray())\n",
    "\n",
    "        logger.info(\"Saving model\")\n",
    "        save_object(os.path.join(self.config.root_dir,\"model.pkl\"), multi_out_model)\n"
   ]
  },
  {
   "cell_type": "code",
   "execution_count": 7,
   "metadata": {},
   "outputs": [
    {
     "name": "stdout",
     "output_type": "stream",
     "text": [
      "[2024-04-20 15:35:22,311] 29 common - INFO - yaml file config\\config.yml loaded successfully\n",
      "[2024-04-20 15:35:22,315] 29 common - INFO - yaml file params.yml loaded successfully\n",
      "[2024-04-20 15:35:22,317] 47 common - INFO - Created directory at: artifacts\n",
      "[2024-04-20 15:35:22,317] 47 common - INFO - Created directory at: artifacts/model_trainer\n",
      "[2024-04-20 15:35:22,317] 34 725514359 - INFO - Loading training data\n",
      "[2024-04-20 15:35:22,350] 37 725514359 - INFO - Split data - Independent & dependent variable\n",
      "[2024-04-20 15:35:22,584] 40 725514359 - INFO - Model: Gradient Boosting\n",
      "[2024-04-20 15:35:22,585] 43 725514359 - INFO - Params: {}\n",
      "[2024-04-20 15:37:51,250] 48 725514359 - INFO - Saving model\n"
     ]
    }
   ],
   "source": [
    "try:\n",
    "    config = ConfigurationManager()\n",
    "    model_trainer_config = config.get_model_trainer_config()\n",
    "    model_trainer = ModelTrainer(config=model_trainer_config)\n",
    "    model_trainer.train()\n",
    "except Exception as e:\n",
    "    raise e"
   ]
  }
 ],
 "metadata": {
  "kernelspec": {
   "display_name": "venv",
   "language": "python",
   "name": "python3"
  },
  "language_info": {
   "codemirror_mode": {
    "name": "ipython",
    "version": 3
   },
   "file_extension": ".py",
   "mimetype": "text/x-python",
   "name": "python",
   "nbconvert_exporter": "python",
   "pygments_lexer": "ipython3",
   "version": "3.12.1"
  }
 },
 "nbformat": 4,
 "nbformat_minor": 2
}
