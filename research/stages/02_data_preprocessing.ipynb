{
 "cells": [
  {
   "cell_type": "code",
   "execution_count": 1,
   "metadata": {},
   "outputs": [
    {
     "data": {
      "text/plain": [
       "'c:\\\\Users\\\\anfe1\\\\OneDrive\\\\Escritorio\\\\Instaleap\\\\Instamarket'"
      ]
     },
     "execution_count": 1,
     "metadata": {},
     "output_type": "execute_result"
    }
   ],
   "source": [
    "import os\n",
    "\n",
    "os.chdir(\"../../\")\n",
    "%pwd"
   ]
  },
  {
   "cell_type": "code",
   "execution_count": 2,
   "metadata": {},
   "outputs": [],
   "source": [
    "from dataclasses import dataclass\n",
    "from pathlib import Path\n",
    "\n",
    "@dataclass(frozen=True)\n",
    "class DataPreprocessingConfig:\n",
    "    root_dir: Path\n",
    "    data_path: Path\n",
    "    clean_data_file: Path"
   ]
  },
  {
   "cell_type": "code",
   "execution_count": 3,
   "metadata": {},
   "outputs": [],
   "source": [
    "from instamarket.constants import CONFIG_FILE_PATH\n",
    "from instamarket.utils.common import read_yaml, create_directories\n",
    "\n",
    "class ConfigurationManager:\n",
    "    def __init__(self) -> None:\n",
    "        config_file_path = CONFIG_FILE_PATH\n",
    "\n",
    "        self.config = read_yaml(config_file_path)\n",
    "\n",
    "        create_directories([self.config.artifacts_root])\n",
    "    \n",
    "    def get_data_preprocessing_config(self) -> DataPreprocessingConfig:\n",
    "        config = self.config.data_preprocessing\n",
    "\n",
    "        create_directories([config.root_dir])\n",
    "\n",
    "        data_preprocessing_config = DataPreprocessingConfig(\n",
    "            root_dir=config.root_dir,\n",
    "            data_path=config.data_path,\n",
    "            clean_data_file=config.clean_data_file\n",
    "        )\n",
    "\n",
    "        return data_preprocessing_config"
   ]
  },
  {
   "cell_type": "code",
   "execution_count": 4,
   "metadata": {},
   "outputs": [],
   "source": [
    "import pandas as pd\n",
    "import numpy as np\n",
    "\n",
    "from instamarket.utils.common import save_object\n",
    "from instamarket.logging import logger\n",
    "\n",
    "class DataPreprocessing:\n",
    "    def __init__(self, config:DataPreprocessingConfig) -> None:\n",
    "        self.config = config\n",
    "\n",
    "    def start(self) -> pd.DataFrame:\n",
    "        logger.info(\"Read the dataset as dataframe\")\n",
    "        df = pd.read_csv(self.config.data_path)\n",
    "\n",
    "        logger.info(\"Converting picking times to datetime DType\")\n",
    "        datetime_cols = [\"actual_start_time_picking\",\n",
    "                        \"actual_end_time_picking\",\n",
    "                        \"optimal_start_time_picking\",\n",
    "                        \"optimal_end_time_picking\"]\n",
    "        df[datetime_cols] = df[datetime_cols].apply(pd.to_datetime, format=\"mixed\")\n",
    "        \n",
    "        df.drop(columns=\"job_id\", axis=1, inplace=True)\n",
    "\n",
    "        logger.info(\"Removing missing values\")\n",
    "        df.dropna(subset=['actual_start_time_picking', 'actual_end_time_picking'], inplace=True)\n",
    "\n",
    "        logger.info(\"Adding columns for analysis\") \n",
    "        df[\"actual_total_time\"] = (df[\"actual_end_time_picking\"] - df[\"actual_start_time_picking\"]).dt.total_seconds() / 60.0\n",
    "        df[\"optimal_total_time\"] = (df[\"optimal_end_time_picking\"] - df[\"optimal_start_time_picking\"]).dt.total_seconds() / 60.0\n",
    "        df[\"diff_actual_optimal_time\"] = df[\"actual_total_time\"] - df[\"optimal_total_time\"]\n",
    "\n",
    "        df[\"start_delay\"] = (df[\"actual_start_time_picking\"] - df[\"optimal_start_time_picking\"]).dt.total_seconds() / 60.0\n",
    "        df[\"end_delay\"] = (df[\"actual_end_time_picking\"] - df[\"optimal_end_time_picking\"]).dt.total_seconds() / 60.0\n",
    "\n",
    "        df[\"PTP\"] = df[\"actual_total_time\"]/df[\"optimal_total_time\"]\n",
    "\n",
    "        logger.info(\"Removing outliers\") \n",
    "        cols_to_normalize = [\"actual_total_time\",\n",
    "                              \"optimal_total_time\",\n",
    "                              \"diff_actual_optimal_time\",\n",
    "                              \"start_delay\",\n",
    "                              \"end_delay\",\n",
    "                              \"PTP\"]\n",
    "\n",
    "        for col in cols_to_normalize:\n",
    "            col_zscore = col + '_zscore'\n",
    "            df[col_zscore] = (df[col] - df[col].mean())/df[col].std(ddof=0)\n",
    "        \n",
    "        zcore_cols  =  [col+ '_zscore' for col in cols_to_normalize]\n",
    "        filters = [(df[col]>-3) & (df[col]<3) for col in zcore_cols]\n",
    "\n",
    "        df_filtered = df[np.logical_and.reduce(filters)]\n",
    "\n",
    "        logger.info(\"Dropping not neccesary columns\") \n",
    "        df_clean = df_filtered.drop(columns=[\"actual_start_time_picking\",\"actual_end_time_picking\",\"actual_total_time\",\"diff_actual_optimal_time\",\"PTP\",*zcore_cols])\n",
    "\n",
    "        logger.info(\"Saving list of stores\")\n",
    "        save_object(os.path.join(self.config.root_dir,\"stores.pkl\"),list(df_clean[\"store_id\"].unique()))\n",
    "\n",
    "        logger.info(\"Saving preprocessing data\")\n",
    "        df_clean.to_csv(self.config.clean_data_file, index=False, header=True)"
   ]
  },
  {
   "cell_type": "code",
   "execution_count": 5,
   "metadata": {},
   "outputs": [
    {
     "name": "stdout",
     "output_type": "stream",
     "text": [
      "[2024-04-20 14:53:10,603] 29 common - INFO - yaml file config\\config.yml loaded successfully\n",
      "[2024-04-20 14:53:10,604] 47 common - INFO - Created directory at: artifacts\n",
      "[2024-04-20 14:53:10,605] 47 common - INFO - Created directory at: artifacts/data_preprocessing\n",
      "[2024-04-20 14:53:10,606] 12 1439955191 - INFO - Read the dataset as dataframe\n",
      "[2024-04-20 14:53:11,885] 15 1439955191 - INFO - Converting picking times to datetime DType\n",
      "[2024-04-20 14:54:29,456] 24 1439955191 - INFO - Removing missing values\n",
      "[2024-04-20 14:54:29,473] 27 1439955191 - INFO - Adding columns for analysis\n",
      "[2024-04-20 14:54:29,526] 37 1439955191 - INFO - Removing outliers\n",
      "[2024-04-20 14:54:29,623] 54 1439955191 - INFO - Dropping not neccesary columns\n",
      "[2024-04-20 14:54:29,639] 57 1439955191 - INFO - Saving preprocessing data\n",
      "[2024-04-20 14:54:35,184] 60 1439955191 - INFO - Saving list of stores\n"
     ]
    }
   ],
   "source": [
    "try:\n",
    "    config = ConfigurationManager()\n",
    "    data_preprocessing_config = config.get_data_preprocessing_config()\n",
    "    data_preprocessing = DataPreprocessing(config=data_preprocessing_config)\n",
    "    data_preprocessing.start()\n",
    "except Exception as e:\n",
    "    raise e"
   ]
  }
 ],
 "metadata": {
  "kernelspec": {
   "display_name": "venv",
   "language": "python",
   "name": "python3"
  },
  "language_info": {
   "codemirror_mode": {
    "name": "ipython",
    "version": 3
   },
   "file_extension": ".py",
   "mimetype": "text/x-python",
   "name": "python",
   "nbconvert_exporter": "python",
   "pygments_lexer": "ipython3",
   "version": "3.12.1"
  }
 },
 "nbformat": 4,
 "nbformat_minor": 2
}
